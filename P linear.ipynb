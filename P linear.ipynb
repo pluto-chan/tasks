{
 "cells": [
  {
   "cell_type": "code",
   "execution_count": 20,
   "metadata": {
    "collapsed": true
   },
   "outputs": [],
   "source": [
    "def loss(x, k, b, y):\n",
    "    return (k*x+b - y)**2\n",
    "\n",
    "def gradk(x, k, b, y):\n",
    "    dk = 2*k*x*x + 2*b*x - 2*y*x\n",
    "    return dk\n",
    "\n",
    "def gradb(x, k, b, y):\n",
    "    db = 2*b + 2*k*x - 2*y\n",
    "    return db\n"
   ]
  },
  {
   "cell_type": "code",
   "execution_count": 31,
   "metadata": {
    "collapsed": false
   },
   "outputs": [],
   "source": [
    "import numpy as np\n",
    "\n",
    "def f(x):\n",
    "    return 100*x-3987\n",
    "\n",
    "x = np.arange(-10, 10, 0.1)\n",
    "y = f(x)"
   ]
  },
  {
   "cell_type": "code",
   "execution_count": 32,
   "metadata": {
    "collapsed": false
   },
   "outputs": [
    {
     "name": "stdout",
     "output_type": "stream",
     "text": [
      "7998026.55293\n",
      "9906.77908646\n",
      "115.807450579\n",
      "5.97150151166\n",
      "0.827676031283\n",
      "0.221720490376\n",
      "0.0921463201764\n",
      "0.0513189831658\n",
      "0.034739188806\n",
      "0.0267824991656\n",
      "0.0225185462862\n",
      "0.0200601377006\n",
      "0.0185721965765\n",
      "0.0176420746908\n",
      "0.0170480211901\n",
      "0.0166631416\n",
      "0.0164113951726\n",
      "0.0162456809837\n",
      "0.0161361356081\n",
      "0.0160635160783\n",
      "0.0160152847339\n",
      "0.0159832109929\n",
      "0.0159618641959\n",
      "0.0159476488409\n",
      "0.015938178972\n",
      "0.0159318688515\n",
      "0.0159276634913\n",
      "0.015924860535\n",
      "0.0159229921673\n",
      "0.0159217467223\n",
      "0.0159209164527\n",
      "0.0159203629787\n",
      "0.0159199940284\n",
      "0.015919748091\n",
      "0.0159195841068\n",
      "0.0159194748114\n",
      "0.0159194019481\n",
      "0.0159193533456\n",
      "0.015919320971\n",
      "0.0159192993879\n",
      "0.0159192850263\n",
      "0.0159192754519\n",
      "0.0159192690419\n",
      "0.0159192647415\n",
      "0.0159192619016\n",
      "0.0159192600354\n",
      "0.0159192587372\n",
      "0.0159192579258\n",
      "0.0159192573578\n",
      "0.0159192569521\n"
     ]
    }
   ],
   "source": [
    "k = 0\n",
    "b = 0\n",
    "EPS = 0.00001\n",
    "MAX_ITERATION = 50000\n",
    "lam = 0.005\n",
    "L = loss(x[0], k, b, y[0])\n",
    "i = 0\n",
    "while L > EPS and i < MAX_ITERATION:        \n",
    "    L = 0\n",
    "    gk = 0\n",
    "    gb = 0\n",
    "    #for j in range (len(x)):\n",
    "    for j in range(len(x)):\n",
    "        gk += gradk(x[j], k, b, y[j])\n",
    "        gb += gradb(x[j], k, b, y[j])\n",
    "    gk = gk/(2*len(x))\n",
    "    gb = gb/(2*len(x))\n",
    "    k = k - lam * gk\n",
    "    b = b - lam * gb\n",
    "    for j in range(len(x)):\n",
    "        L += loss(x[j], k, b, y[j])\n",
    "    L = L/(2*len(x))\n",
    "\n",
    "     \n",
    "    #выводим лосс каждые 10 шагов\n",
    "    if i%1000 == 0:\n",
    "        print(L)\n",
    "    if i%1000 == 0:\n",
    "        lam = lam/(1.5)\n",
    "    \n",
    "    i += 1\n",
    "    "
   ]
  },
  {
   "cell_type": "code",
   "execution_count": 33,
   "metadata": {
    "collapsed": false
   },
   "outputs": [
    {
     "name": "stdout",
     "output_type": "stream",
     "text": [
      "100.000275924 -3986.82155982\n"
     ]
    }
   ],
   "source": [
    "print(k, b)"
   ]
  },
  {
   "cell_type": "code",
   "execution_count": null,
   "metadata": {
    "collapsed": true
   },
   "outputs": [],
   "source": []
  }
 ],
 "metadata": {
  "kernelspec": {
   "display_name": "Python 3",
   "language": "python",
   "name": "python3"
  },
  "language_info": {
   "codemirror_mode": {
    "name": "ipython",
    "version": 3
   },
   "file_extension": ".py",
   "mimetype": "text/x-python",
   "name": "python",
   "nbconvert_exporter": "python",
   "pygments_lexer": "ipython3",
   "version": "3.6.0"
  }
 },
 "nbformat": 4,
 "nbformat_minor": 2
}
