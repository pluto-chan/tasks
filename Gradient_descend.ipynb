{
 "cells": [
  {
   "cell_type": "code",
   "execution_count": 262,
   "metadata": {
    "collapsed": false
   },
   "outputs": [],
   "source": [
    "import sklearn\n",
    "import numpy as np"
   ]
  },
  {
   "cell_type": "code",
   "execution_count": 264,
   "metadata": {
    "collapsed": false
   },
   "outputs": [
    {
     "name": "stdout",
     "output_type": "stream",
     "text": [
      "[[ 12.  -4.  -1.]\n",
      " [ -4.  12.  -3.]\n",
      " [ -1.  -3.   6.]]\n"
     ]
    }
   ],
   "source": [
    "y1 = 1.0\n",
    "y2 = 2.0\n",
    "y3 = 3.0\n",
    "y4 = 4.0\n",
    "y5 = 5.0\n",
    "y6 = 6.0\n",
    "\n",
    "y0 = 1.00\n",
    "\n",
    "E0 = 10\n",
    "\n",
    "R = np.zeros((3, 3))\n",
    "R[0][0] = y0 + y4 + y1 + y6\n",
    "R[1][1] = y3 + y4 + y5\n",
    "R[2][2] = y1 + y2 + y3\n",
    "\n",
    "R[0][1] = -y4\n",
    "R[1][0] = -y4\n",
    "\n",
    "R[1][2] = -y3\n",
    "R[2][1] = -y3\n",
    "\n",
    "R[0][2] = -y1\n",
    "R[2][0] = -y1\n",
    "\n",
    "U = np.zeros((3, 1))\n",
    "E = np.zeros((3, 1))\n",
    "E[0, 0] = E0\n",
    "print(R)"
   ]
  },
  {
   "cell_type": "code",
   "execution_count": 265,
   "metadata": {
    "collapsed": false
   },
   "outputs": [
    {
     "name": "stdout",
     "output_type": "stream",
     "text": [
      "[[ 1.00961538]\n",
      " [ 0.43269231]\n",
      " [ 0.38461538]]\n"
     ]
    }
   ],
   "source": [
    "from scipy.linalg import solve\n",
    "U = solve(R, E)\n",
    "print(U)"
   ]
  },
  {
   "cell_type": "code",
   "execution_count": 266,
   "metadata": {
    "collapsed": false
   },
   "outputs": [
    {
     "data": {
      "text/plain": [
       "0.98086168639053262"
      ]
     },
     "execution_count": 266,
     "metadata": {},
     "output_type": "execute_result"
    }
   ],
   "source": [
    "Ut = 2.0\n",
    "L = (Ut - U[0, 0])**2\n",
    "L"
   ]
  },
  {
   "cell_type": "code",
   "execution_count": 267,
   "metadata": {
    "collapsed": false
   },
   "outputs": [],
   "source": [
    "#градиентный спуск\n",
    "from sympy import *\n",
    "\n",
    "#создаём символы для дальнейшей подстановки\n",
    "ys0, ys1, ys2, ys3, ys4, ys5, ys6 = symbols('ys0 ys1 ys2 ys3 ys4 ys5 ys6')\n",
    "ys = [ys0, ys1, ys2, ys3, ys4, ys5, ys6]\n",
    "y = [y0, y1, y2, y3, y4, y5, y6]\n",
    "\n",
    "\n",
    "#задаём функцию, которую собираемся минимизировать, с символами\n",
    "\n",
    "#минор R[0,0]\n",
    "detR00 = 10.0 * (ys[3]+ys[4]+ys[5]) * (ys[1]+ys[2]+ys[3]) - (-ys[1]) * (-ys[1])\n",
    "\n",
    "#определитель матрицы еврейским методом\n",
    "main_diag = (ys[0]+ys[1]+ys[4]+ys[6]) * (ys[3]+ys[4]+ys[5]) * (ys[1]+ys[2]+ys[3])\n",
    "main_tri1 = (-ys[1]) * (-ys[3]) * (-ys[4])\n",
    "main_tri2 = (-ys[1]) * (-ys[3]) * (-ys[4])\n",
    "\n",
    "anti_diag = (ys[3]+ys[4]+ys[5]) * (-ys[3]) * (-ys[3])\n",
    "anti_tri1 = (ys[1]+ys[2]+ys[3]) * (-ys[4]) * (-ys[4])\n",
    "anti_tri2 = (ys[0]+ys[1]+ys[4]+ys[6]) * (-ys[1]) * (-ys[1])\n",
    "\n",
    "detR = (main_diag + main_tri1 + main_tri2) - (anti_diag + anti_tri1 + anti_tri2)\n",
    "\n",
    "#и считаем методом крамера\n",
    "Ug = detR00 / detR\n",
    "\n",
    "#is this loss\n",
    "loss = (2.0 - Ug)**2"
   ]
  },
  {
   "cell_type": "code",
   "execution_count": 269,
   "metadata": {
    "collapsed": false
   },
   "outputs": [
    {
     "name": "stdout",
     "output_type": "stream",
     "text": [
      "[[ 12.  -4.  -1.]\n",
      " [ -4.  12.  -3.]\n",
      " [ -1.  -3.   6.]]\n"
     ]
    }
   ],
   "source": [
    "#копируем матрицу с сопротивлениями _на_всякий_случай_\n",
    "R1 = R.copy()\n",
    "print(R1)"
   ]
  },
  {
   "cell_type": "code",
   "execution_count": 270,
   "metadata": {
    "collapsed": true
   },
   "outputs": [],
   "source": [
    "#задаём гиперпараметры: минимальную ошибку и максимальное число итераций\n",
    "EPS = 0.01\n",
    "MAX_ITERATION = 5000000\n",
    "lam = 0.01"
   ]
  },
  {
   "cell_type": "code",
   "execution_count": 271,
   "metadata": {
    "collapsed": false
   },
   "outputs": [
    {
     "name": "stdout",
     "output_type": "stream",
     "text": [
      "[[ 12.  -4.  -1.]\n",
      " [ -4.  12.  -3.]\n",
      " [ -1.  -3.   6.]]\n",
      "0.717126265970382\n",
      "0.701342471115124\n",
      "0.685308365787732\n",
      "0.669023060808194\n",
      "0.652486369266473\n",
      "0.635698916213598\n",
      "0.618662261142535\n",
      "0.601379034279036\n",
      "0.583853087651720\n",
      "0.566089661806301\n",
      "0.548095568853467\n",
      "0.529879392272365\n",
      "0.511451703506302\n",
      "0.492825294854012\n",
      "0.474015427444221\n",
      "0.455040092144755\n",
      "0.435920280059351\n",
      "0.416680257765080\n",
      "0.397347840604913\n",
      "0.377954655148652\n",
      "0.358536379366892\n",
      "0.339132946156136\n",
      "0.319788692687400\n",
      "0.300552434774429\n",
      "0.281477442311059\n",
      "0.262621289164027\n",
      "0.244045549210638\n",
      "0.225815310096200\n",
      "0.207998478484107\n",
      "0.190664855871155\n",
      "0.173884973189685\n",
      "0.157728685965144\n",
      "0.142263549883636\n",
      "0.127553018740257\n",
      "0.113654531499618\n",
      "0.100617580199643\n",
      "0.0884818722815429\n",
      "0.0772757155662984\n",
      "0.0670147573922244\n",
      "0.0577011980755762\n",
      "0.0493235713804424\n",
      "0.0418571422802681\n",
      "0.0352649191919016\n",
      "0.0294992209608813\n",
      "0.0245036865734870\n",
      "0.0202155760299252\n",
      "0.0165681901084949\n",
      "0.0134932374682853\n",
      "0.0109229982681422\n"
     ]
    }
   ],
   "source": [
    "#иии градиентный спуск\n",
    "grad=np.zeros((8, 1))\n",
    "R = R1.copy()\n",
    "g0, g1, g2, g3, g4, g5, g6 = symbols('g0 g1 g2 g3 g4 g5 g6')\n",
    "sym_grad = [g0, g1, g2, g3, g4, g5, g6]\n",
    "i = 0\n",
    "print(R)\n",
    "\n",
    "while L > EPS and i < MAX_ITERATION:  \n",
    "    for j in range(len(ys)):\n",
    "        #считаем просто частные производные\n",
    "        sym_grad[j] = loss.diff(ys[j])\n",
    "        \n",
    "        #считаем значения частных производных в точке aka градиент\n",
    "        grad[j] = float(sym_grad[j].subs([(ys[0], y[0]), (ys[1], y[1]), (ys[2], y[2]), (ys[3], y[3]), (ys[4], y[4]), (ys[5], y[5]), (ys[6], y[6])]))\n",
    "    \n",
    "    #обновляем только когда посчитали всё!!!\n",
    "    for j in range(len(ys)):\n",
    "        y[j] = y[j] - lam * grad[j]\n",
    "    \n",
    "    #мы УЖЕ минимизируем функцию потерь, заново ничего возводить в степень не надо, просто подставить\n",
    "    L = loss.subs([(ys[0], y[0]), (ys[1], y[1]), (ys[2], y[2]), (ys[3], y[3]), (ys[4], y[4]), (ys[5], y[5]), (ys[6], y[6])])\n",
    "    \n",
    "    #выводим лосс каждые 10 шагов\n",
    "    if i%10 == 0:\n",
    "        print(L)\n",
    "    \n",
    "    i += 1\n",
    "    \n",
    "\n",
    "    "
   ]
  },
  {
   "cell_type": "code",
   "execution_count": 272,
   "metadata": {
    "collapsed": false
   },
   "outputs": [
    {
     "name": "stdout",
     "output_type": "stream",
     "text": [
      "[[  8.86817342  -3.58719498  -0.19439865]\n",
      " [ -3.58719498  12.15667865  -3.68815315]\n",
      " [ -0.19439865  -3.68815315   5.51214439]]\n"
     ]
    }
   ],
   "source": [
    "    R[0][0] = y[0] + y[4] + y[1] + y[6]\n",
    "    R[1][1] = y[3] + y[4] + y[5]\n",
    "    R[2][2] = y[1] + y[2] + y[3]\n",
    "\n",
    "    R[0][1] = -y[4]\n",
    "    R[1][0] = -y[4]\n",
    "\n",
    "    R[1][2] = -y[3]\n",
    "    R[2][1] = -y[3]\n",
    "\n",
    "    R[0][2] = -y[1]\n",
    "    R[2][0] = -y[1]\n",
    "    \n",
    "    \n",
    "    print(R)"
   ]
  },
  {
   "cell_type": "code",
   "execution_count": 273,
   "metadata": {
    "collapsed": false
   },
   "outputs": [
    {
     "name": "stdout",
     "output_type": "stream",
     "text": [
      "y 0 [ 0.04328989]\n",
      "y 1 [ 0.19439865]\n",
      "y 2 [ 1.62959259]\n",
      "y 3 [ 3.68815315]\n",
      "y 4 [ 3.58719498]\n",
      "y 5 [ 4.88133051]\n",
      "y 6 [ 5.04328989]\n"
     ]
    }
   ],
   "source": [
    "for k in range(len(y)):\n",
    "    print('y', k, y[k])"
   ]
  },
  {
   "cell_type": "code",
   "execution_count": null,
   "metadata": {
    "collapsed": true
   },
   "outputs": [],
   "source": []
  },
  {
   "cell_type": "code",
   "execution_count": null,
   "metadata": {
    "collapsed": true
   },
   "outputs": [],
   "source": []
  }
 ],
 "metadata": {
  "kernelspec": {
   "display_name": "Python 3",
   "language": "python",
   "name": "python3"
  },
  "language_info": {
   "codemirror_mode": {
    "name": "ipython",
    "version": 3
   },
   "file_extension": ".py",
   "mimetype": "text/x-python",
   "name": "python",
   "nbconvert_exporter": "python",
   "pygments_lexer": "ipython3",
   "version": "3.6.0"
  }
 },
 "nbformat": 4,
 "nbformat_minor": 2
}
