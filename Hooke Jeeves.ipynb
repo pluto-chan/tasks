{
 "cells": [
  {
   "cell_type": "code",
   "execution_count": 20,
   "metadata": {
    "collapsed": false
   },
   "outputs": [],
   "source": [
    "import random\n",
    "import sklearn\n",
    "import numpy as np"
   ]
  },
  {
   "cell_type": "code",
   "execution_count": 21,
   "metadata": {
    "collapsed": false
   },
   "outputs": [
    {
     "name": "stdout",
     "output_type": "stream",
     "text": [
      "[0.6550726246679168, 0.4885036354267003, 0.9775105833462302, 0.5615620937457312, 0.35869262820530246, 0.09329131893947662, 0.00501522306019031]\n"
     ]
    }
   ],
   "source": [
    "y = []\n",
    "for k in range(7):\n",
    "    y.append(random.uniform(0, 1))\n",
    "\n",
    "E0 = 10\n",
    "\n",
    "U = np.zeros((3, 1))\n",
    "E = np.zeros((3, 1))\n",
    "E[0, 0] = E0\n",
    "print(y)"
   ]
  },
  {
   "cell_type": "code",
   "execution_count": 22,
   "metadata": {
    "collapsed": false
   },
   "outputs": [],
   "source": [
    "def my_func(ys):\n",
    "#задаём функцию, которую собираемся минимизировать\n",
    "#минор R[0,0]\n",
    "    detR00 = 10.0 * (ys[3]+ys[4]+ys[5]) * (ys[1]+ys[2]+ys[3]) - (-ys[1]) * (-ys[1])\n",
    "\n",
    "#определитель матрицы еврейским методом\n",
    "    main_diag = (ys[0]+ys[1]+ys[4]+ys[6]) * (ys[3]+ys[4]+ys[5]) * (ys[1]+ys[2]+ys[3])\n",
    "    main_tri1 = (-ys[1]) * (-ys[3]) * (-ys[4])\n",
    "    main_tri2 = (-ys[1]) * (-ys[3]) * (-ys[4])\n",
    "\n",
    "    anti_diag = (ys[3]+ys[4]+ys[5]) * (-ys[3]) * (-ys[3])\n",
    "    anti_tri1 = (ys[1]+ys[2]+ys[3]) * (-ys[4]) * (-ys[4])\n",
    "    anti_tri2 = (ys[0]+ys[1]+ys[4]+ys[6]) * (-ys[1]) * (-ys[1])\n",
    "\n",
    "    detR = (main_diag + main_tri1 + main_tri2) - (anti_diag + anti_tri1 + anti_tri2)\n",
    "\n",
    "#и считаем методом крамера\n",
    "    Ug = detR00 / detR\n",
    "\n",
    "#is this loss\n",
    "    loss = (2.0 - Ug)**2\n",
    "    \n",
    "    return loss"
   ]
  },
  {
   "cell_type": "code",
   "execution_count": 23,
   "metadata": {
    "collapsed": true
   },
   "outputs": [],
   "source": [
    "#задаём гиперпараметры: минимальную ошибку и максимальное число итераций\n",
    "EPS = 0.001\n",
    "MAX_ITERATION = 500000\n",
    "lam = 0.1\n",
    "step = 0.5"
   ]
  },
  {
   "cell_type": "code",
   "execution_count": 24,
   "metadata": {
    "collapsed": false
   },
   "outputs": [
    {
     "name": "stdout",
     "output_type": "stream",
     "text": [
      "[[ 0.  0.  0.]\n",
      " [ 0.  0.  0.]\n",
      " [ 0.  0.  0.]]\n",
      "69.89367278926767\n",
      "Loss =  5.249233673733541\n",
      "Step =  0.5\n",
      "Loss =  0.5093344302879829\n",
      "Step =  0.5\n",
      "Loss =  0.00021245284134354943\n",
      "Step =  0.5\n",
      "Loss =  0.00021245284134354943\n",
      "Step =  0.25\n",
      "Loss =  0.00021245284134354943\n",
      "Step =  0.125\n",
      "Loss =  0.00021245284134354943\n",
      "Step =  0.0625\n",
      "Loss =  0.00021245284134354943\n",
      "Step =  0.03125\n",
      "Loss =  0.00021245284134354943\n",
      "Step =  0.015625\n",
      "Loss =  0.00021245284134354943\n",
      "Step =  0.0078125\n",
      "Loss =  0.00021245284134354943\n",
      "Step =  0.00390625\n",
      "Loss =  0.00021245284134354943\n",
      "Step =  0.001953125\n",
      "Loss =  0.00021245284134354943\n",
      "Step =  0.0009765625\n"
     ]
    }
   ],
   "source": [
    "j = 0\n",
    "print(R)\n",
    "y_new = y.copy()\n",
    "print(my_func(y))\n",
    "while step > EPS and j < MAX_ITERATION:  \n",
    "    basic = my_func(y)\n",
    "    for i in range(len(y)):\n",
    "        y_new[i] += step\n",
    "        if basic <= my_func(y_new):\n",
    "            step /= 2.0\n",
    "            i = -1\n",
    "            break\n",
    "    if i != -1:\n",
    "        y = y_new.copy()\n",
    "    print('Loss = ', my_func(y))\n",
    "    print('Step = ', step)\n",
    "    j += 1\n",
    "\n",
    "        \n",
    "        "
   ]
  },
  {
   "cell_type": "code",
   "execution_count": 25,
   "metadata": {
    "collapsed": false
   },
   "outputs": [
    {
     "name": "stdout",
     "output_type": "stream",
     "text": [
      "y 0 2.155072624667917\n",
      "y 1 1.9885036354267003\n",
      "y 2 2.47751058334623\n",
      "y 3 2.061562093745731\n",
      "y 4 1.8586926282053025\n",
      "y 5 1.5932913189394766\n",
      "y 6 1.5050152230601903\n"
     ]
    }
   ],
   "source": [
    "for k in range(len(y)):\n",
    "    print('y', k, y[k])"
   ]
  },
  {
   "cell_type": "code",
   "execution_count": null,
   "metadata": {
    "collapsed": true
   },
   "outputs": [],
   "source": []
  }
 ],
 "metadata": {
  "kernelspec": {
   "display_name": "Python 3",
   "language": "python",
   "name": "python3"
  },
  "language_info": {
   "codemirror_mode": {
    "name": "ipython",
    "version": 3
   },
   "file_extension": ".py",
   "mimetype": "text/x-python",
   "name": "python",
   "nbconvert_exporter": "python",
   "pygments_lexer": "ipython3",
   "version": "3.6.0"
  }
 },
 "nbformat": 4,
 "nbformat_minor": 2
}
